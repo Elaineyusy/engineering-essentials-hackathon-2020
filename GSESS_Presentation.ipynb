{
 "cells": [
  {
   "cell_type": "code",
   "execution_count": null,
   "metadata": {},
   "outputs": [],
   "source": [
    "import requests\n",
    "import json\n",
    "from datetime import date\n",
    "import plotly.graph_objects as go\n",
    "import plotly.express as px\n",
    "from gs_quant.data import Dataset\n",
    "from gs_quant.session import GsSession, Environment"
   ]
  },
  {
   "cell_type": "markdown",
   "metadata": {},
   "source": [
    "# Part 1"
   ]
  },
  {
   "cell_type": "code",
   "execution_count": null,
   "metadata": {},
   "outputs": [],
   "source": [
    "GsSession.use(client_id=r'', client_secret=r'', scopes=('read_product_data',))\n",
    "\n",
    "who_ds = Dataset('COVID19_COUNTRY_DAILY_WHO')"
   ]
  },
  {
   "cell_type": "code",
   "execution_count": null,
   "metadata": {},
   "outputs": [],
   "source": [
    "dataframe = who_ds.get_data(datetime.date(2020, 5, 15), \n",
    "                            datetime.datetime.today().date()).reset_index()\n",
    "print(dataframe)\n",
    "\n",
    "countryList = ['BR', 'CA', 'CN', 'US', 'IT',\n",
    "               'ES', 'DE', 'UK', 'FR', 'RU', \n",
    "               'ES', 'TR', 'SA', 'QA', 'EC',\n",
    "               'AR', 'CH', 'OM', 'PA', 'AT',\n",
    "               'GT', 'LR', 'NO', 'NP', 'SN']"
   ]
  },
  {
   "cell_type": "code",
   "execution_count": null,
   "metadata": {},
   "outputs": [],
   "source": [
    "selected_data = dataframe[dataframe['countryId'].isin(countryList)]\n",
    "print(selected_data.columns.values.tolist())"
   ]
  },
  {
   "cell_type": "code",
   "execution_count": null,
   "metadata": {},
   "outputs": [],
   "source": [
    "fig = px.line(selected_data, x=\"date\", y=\"newConfirmed\",\n",
    "              color=\"countryName\", hover_name=\"countryName\", log_y=True)\n",
    "fig.update_xaxes(rangeslider_visible=True, rangeselector=dict(\n",
    "    buttons=list(\n",
    "        [\n",
    "            dict(count=7, label=\"1 week\", step=\"day\", stepmode=\"backward\"),\n",
    "            dict(count=1, label=\"1 month\", step=\"month\", stepmode=\"backward\"),\n",
    "            dict(count=3, label=\"3 month\", step=\"month\", stepmode=\"backward\"),\n",
    "            dict(step=\"all\")\n",
    "        ])))\n",
    "\n",
    "fig_t = go.Figure(go.Bar(x=selected_data[\"countryId\"], y=selected_data[\"totalConfirmed\"],\n",
    "                         name=\"total confirmed\", marker_color='indianred', opacity=.8))\n",
    "fig_t.add_trace(go.Bar(x=selected_data[\"countryId\"], y=selected_data[\"newConfirmed\"],\n",
    "                       name=\"new confirmed\", marker_color='mediumblue', opacity=0.7))\n",
    "fig_t.add_trace(go.Bar(x=selected_data[\"countryId\"], y=selected_data[\"newFatalities\"],\n",
    "                       name=\"new fatalities\", marker_color='lightseagreen', opacity=0.8))\n",
    "fig_t.add_trace(go.Bar(x=selected_data[\"countryId\"], y=selected_data[\"totalFatalities\"],\n",
    "                       name=\"total fatalities\", marker_color='gray', opacity=1))\n",
    "fig_t.update_layout(barmode='overlay', xaxis={'categoryorder': 'total ascending'}, xaxis_type='category', title={\n",
    "                    'text': 'Cummulative COVID-19 world trend', 'y': 0.79, 'x': 0.45, 'xanchor': 'center', 'yanchor': 'top'},)\n",
    "fig_t.update_xaxes(title='countries', showline=True)\n",
    "fig_t.update_yaxes(title='number of cases', showline=True)\n",
    "fig_t.show()"
   ]
  },
  {
   "cell_type": "markdown",
   "metadata": {},
   "source": [
    "# Part 2"
   ]
  },
  {
   "cell_type": "code",
   "execution_count": null,
   "metadata": {},
   "outputs": [],
   "source": [
    "client_id = r''\n",
    "client_secret = r''"
   ]
  },
  {
   "cell_type": "code",
   "execution_count": null,
   "metadata": {},
   "outputs": [],
   "source": [
    "auth_data = {\n",
    "    'grant_type': 'client_credentials',\n",
    "    'client_id': client_id,\n",
    "    'client_secret': client_secret,\n",
    "    'scope': 'read_content read_financial_data read_product_data read_user_profile'\n",
    "}"
   ]
  },
  {
   "cell_type": "code",
   "execution_count": null,
   "metadata": {},
   "outputs": [],
   "source": [
    "# Create sessin instance\n",
    "session = requests.Session()\n",
    "\n",
    "# Make a POST to retrieve access_token\n",
    "access_url = 'https://idfs.gs.com/as/token.oauth2'\n",
    "auth_request = session.post(access_url, data = auth_data)\n",
    "access_token_dict = json.loads(auth_request.text)\n",
    "access_token = access_token_dict['access_token']"
   ]
  },
  {
   "cell_type": "code",
   "execution_count": null,
   "metadata": {},
   "outputs": [],
   "source": [
    "# Update session headers\n",
    "session.headers.update({'Authorization' : 'Bearer ' + access_token})\n",
    "\n",
    "# Test API connectivity\n",
    "request_url = 'https://api.marquee.gs.com/v1/users/self'\n",
    "request = session.get(url = request_url)\n",
    "\n",
    "# User authentication\n",
    "GsSession.use(client_id=client_id, client_secret=client_secret, scopes=('read_product_data',))"
   ]
  },
  {
   "cell_type": "code",
   "execution_count": null,
   "metadata": {},
   "outputs": [],
   "source": [
    "fig = px.scatter(selected_data, x=\"countryId\", y=\"totalConfirmed\",\n",
    "                size=\"totalConfirmed\", color=\"countryId\", \n",
    "                 hover_name=\"countryName\",\n",
    "                 log_y=True, size_max=50,\n",
    "                )\n",
    "\n",
    "# Add title\n",
    "fig.update_layout(title_text=\"Total Confirmed Cases vs New Confirmed Cases\")\n",
    "fig.show()"
   ]
  },
  {
   "cell_type": "code",
   "execution_count": null,
   "metadata": {},
   "outputs": [],
   "source": [
    "# Read data fields\n",
    "print(dataframe.columns)\n",
    "\n",
    "print()\n",
    "# Read data records\n",
    "print(dataframe.index)"
   ]
  },
  {
   "cell_type": "code",
   "execution_count": null,
   "metadata": {},
   "outputs": [],
   "source": [
    "data_dict = dataframe.to_dict()\n",
    "data = dataframe.get(\"countryId\")\n",
    "print(data)\n",
    "print(type(data))"
   ]
  },
  {
   "cell_type": "code",
   "execution_count": null,
   "metadata": {},
   "outputs": [],
   "source": [
    "data = dataframe.reset_index()\n",
    "\n",
    "fig = px.line(data.query(\"countryId == 'CD'\"), x=\"date\", y=\"newConfirmed\")\n",
    "\n",
    "# Add title\n",
    "fig.update_layout(title_text=\"New Confirmed Cases\")\n",
    "\n",
    "# Add slider\n",
    "fig.update_xaxes(\n",
    "    rangeslider_visible=True,\n",
    "    rangeselector=dict(\n",
    "        buttons=list(\n",
    "            [\n",
    "                dict(count=1, label=\"1 month\", step=\"month\", stepmode=\"backward\"),\n",
    "                dict(count=6, label=\"6 month\", step=\"month\", stepmode=\"backward\"),\n",
    "                dict(count=1, label=\"YTD\", step=\"year\", stepmode=\"todate\"),\n",
    "                dict(count=1, label=\"1 year\", step=\"year\", stepmode=\"backward\"),\n",
    "                dict(step=\"all\")\n",
    "            ]\n",
    "        )\n",
    "    )\n",
    ")\n",
    "\n",
    "fig.show()"
   ]
  },
  {
   "cell_type": "code",
   "execution_count": null,
   "metadata": {},
   "outputs": [],
   "source": [
    "data = dataframe.reset_index()\n",
    "\n",
    "fig = px.line(data.query(\"countryId == 'CD'\"), x=\"date\", y=[\"newConfirmed\", \"newFatalities\"])\n",
    "\n",
    "# Add title\n",
    "fig.update_layout(title_text=\"New Confirmed Cases\")\n",
    "\n",
    "# Add slider\n",
    "fig.update_xaxes(\n",
    "    rangeslider_visible=True,\n",
    "    rangeselector=dict(\n",
    "        buttons=list(\n",
    "            [\n",
    "                dict(count=1, label=\"1 month\", step=\"month\", stepmode=\"backward\"),\n",
    "                dict(count=6, label=\"6 month\", step=\"month\", stepmode=\"backward\"),\n",
    "                dict(count=1, label=\"YTD\", step=\"year\", stepmode=\"todate\"),\n",
    "                dict(count=1, label=\"1 year\", step=\"year\", stepmode=\"backward\"),\n",
    "                dict(step=\"all\")\n",
    "            ]\n",
    "        )\n",
    "    )\n",
    ")\n",
    "\n",
    "fig.show()"
   ]
  },
  {
   "cell_type": "code",
   "execution_count": null,
   "metadata": {},
   "outputs": [],
   "source": [
    "fig = px.line(data.query(\"countryId == 'US'\"), x=\"date\", y=[\"totalConfirmed\", \"newConfirmed\"])\n",
    "# Add title\n",
    "fig.update_layout(title_text=\"Total Confirmed Cases vs New Confirmed Cases\")\n",
    "\n",
    "# Add slider\n",
    "fig.update_xaxes(\n",
    "    rangeslider_visible=True,\n",
    "    rangeselector=dict(\n",
    "        buttons=list(\n",
    "            [\n",
    "                dict(count=1, label=\"1 month\", step=\"month\", stepmode=\"backward\"),\n",
    "                dict(count=6, label=\"6 month\", step=\"month\", stepmode=\"backward\"),\n",
    "                dict(count=1, label=\"YTD\", step=\"year\", stepmode=\"todate\"),\n",
    "                dict(count=1, label=\"1 year\", step=\"year\", stepmode=\"backward\"),\n",
    "                dict(step=\"all\")\n",
    "            ]\n",
    "        )\n",
    "    )\n",
    ")\n",
    "\n",
    "\n",
    "# Result: Show graph\n",
    "fig.show()"
   ]
  },
  {
   "cell_type": "code",
   "execution_count": null,
   "metadata": {},
   "outputs": [],
   "source": [
    "fig = px.line(data.query(\"countryId == 'US'\"), x=\"date\", y=[\"totalConfirmed\", \"newConfirmed\"])\n",
    "# Add title\n",
    "fig.update_layout(title_text=\"Total Confirmed Cases vs New Confirmed Cases\")\n",
    "\n",
    "# Add slider\n",
    "fig.update_xaxes(\n",
    "    rangeslider_visible=True,\n",
    "    rangeselector=dict(\n",
    "        buttons=list(\n",
    "            [\n",
    "                dict(count=1, label=\"1 month\", step=\"month\", stepmode=\"backward\"),\n",
    "                dict(count=6, label=\"6 month\", step=\"month\", stepmode=\"backward\"),\n",
    "                dict(count=1, label=\"YTD\", step=\"year\", stepmode=\"todate\"),\n",
    "                dict(count=1, label=\"1 year\", step=\"year\", stepmode=\"backward\"),\n",
    "                dict(step=\"all\")\n",
    "            ]\n",
    "        )\n",
    "    )\n",
    ")\n",
    "\n",
    "# Result: Show graph\n",
    "fig.show()"
   ]
  }
 ],
 "metadata": {
  "kernelspec": {
   "display_name": "Python 3",
   "language": "python",
   "name": "python3"
  },
  "language_info": {
   "codemirror_mode": {
    "name": "ipython",
    "version": 3
   },
   "file_extension": ".py",
   "mimetype": "text/x-python",
   "name": "python",
   "nbconvert_exporter": "python",
   "pygments_lexer": "ipython3",
   "version": "3.7.4"
  }
 },
 "nbformat": 4,
 "nbformat_minor": 2
}
